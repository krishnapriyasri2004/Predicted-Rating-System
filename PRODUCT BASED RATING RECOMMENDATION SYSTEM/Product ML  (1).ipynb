{
 "cells": [
  {
   "cell_type": "code",
   "execution_count": 48,
   "id": "1d033232-05c8-40b6-8269-1b6783e5644e",
   "metadata": {},
   "outputs": [],
   "source": [
    "import pandas as pd\n",
    "from sklearn.model_selection import train_test_split\n",
    "from sklearn.linear_model import LinearRegression\n",
    "from sklearn.neural_network import MLPClassifier\n",
    "from sklearn.ensemble import RandomForestRegressor\n",
    "from sklearn.cluster import KMeans\n",
    "from sklearn.model_selection import train_test_split\n",
    "from sklearn.metrics import silhouette_score, mean_squared_error\n",
    "import seaborn as sns\n",
    "import matplotlib.pyplot as plt\n",
    "import warnings\n",
    "warnings.filterwarnings('ignore')"
   ]
  },
  {
   "cell_type": "code",
   "execution_count": 49,
   "id": "063d0d34-61e5-4294-96ec-28c5c0324148",
   "metadata": {},
   "outputs": [],
   "source": [
    "def load_dataset(file_path):\n",
    "    return pd.read_csv(file_path)"
   ]
  },
  {
   "cell_type": "code",
   "execution_count": 50,
   "id": "7fc86244-48d7-41d7-a8a3-608742b2a43c",
   "metadata": {},
   "outputs": [],
   "source": [
    "def remove_outliers(dataframe, column):\n",
    "    q1 = dataframe[column].quantile(0.25)\n",
    "    q3 = dataframe[column].quantile(0.75)\n",
    "    iqr = q3 - q1\n",
    "    outliers = dataframe[((dataframe[column] < q1 - 1.5 * iqr) | (dataframe[column] > q3 + 1.5 * iqr))]\n",
    "    return dataframe.drop(outliers.index, inplace=False)"
   ]
  },
  {
   "cell_type": "code",
   "execution_count": 51,
   "id": "5a2b9c85-74b7-468b-9cca-4080da47c87e",
   "metadata": {},
   "outputs": [],
   "source": [
    "def train_linear_regression(dataframe, features, target):\n",
    "    model = LinearRegression()\n",
    "    model.fit(dataframe[features], dataframe[target])\n",
    "    return model"
   ]
  },
  {
   "cell_type": "code",
   "execution_count": 52,
   "id": "dbb08c39-d0b3-4017-b395-407c808a2173",
   "metadata": {},
   "outputs": [],
   "source": [
    "def train_neural_network(dataframe, features, target):\n",
    "    model = MLPClassifier(hidden_layer_sizes=(100, 50), random_state=42)\n",
    "    model.fit(dataframe[features], dataframe[target])\n",
    "    return model"
   ]
  },
  {
   "cell_type": "code",
   "execution_count": 53,
   "id": "9b6ad316-6f07-45e5-93aa-2ceb4bc26915",
   "metadata": {},
   "outputs": [],
   "source": [
    "def train_random_forest(dataframe, features, target):\n",
    "    model = RandomForestRegressor(n_estimators=100, random_state=42)\n",
    "    model.fit(dataframe[features], dataframe[target])\n",
    "    return model"
   ]
  },
  {
   "cell_type": "code",
   "execution_count": 54,
   "id": "8d904c6c-7d1a-41d7-bab1-78b013ba1728",
   "metadata": {},
   "outputs": [],
   "source": [
    "def train_kmeans(dataframe, features, n_clusters):\n",
    "    kmeans = KMeans(n_clusters=n_clusters, random_state=42)\n",
    "    dataframe['cluster'] = kmeans.fit_predict(dataframe[features])\n",
    "    \n",
    "    # Calculate silhouette score\n",
    "    silhouette_avg = silhouette_score(dataframe[features], dataframe['cluster'])\n",
    "    \n",
    "    return kmeans, silhouette_avg"
   ]
  },
  {
   "cell_type": "code",
   "execution_count": 55,
   "id": "91f7c8a3-1e9f-450b-b3cd-6020711439c5",
   "metadata": {},
   "outputs": [],
   "source": [
    "def evaluate_model(model, features, target):\n",
    "    return model.score(features, target)"
   ]
  },
  {
   "cell_type": "code",
   "execution_count": 56,
   "id": "52d1fb66-b392-4293-ad9f-9855835a7ef4",
   "metadata": {},
   "outputs": [],
   "source": [
    "def generate_recommendations(model, features):\n",
    "    return model.predict(features)"
   ]
  },
  {
   "cell_type": "code",
   "execution_count": 57,
   "id": "7f3f3a3d-ed6c-41b0-a934-5b109af5a4fd",
   "metadata": {},
   "outputs": [
    {
     "data": {
      "text/html": [
       "<div>\n",
       "<style scoped>\n",
       "    .dataframe tbody tr th:only-of-type {\n",
       "        vertical-align: middle;\n",
       "    }\n",
       "\n",
       "    .dataframe tbody tr th {\n",
       "        vertical-align: top;\n",
       "    }\n",
       "\n",
       "    .dataframe thead th {\n",
       "        text-align: right;\n",
       "    }\n",
       "</style>\n",
       "<table border=\"1\" class=\"dataframe\">\n",
       "  <thead>\n",
       "    <tr style=\"text-align: right;\">\n",
       "      <th></th>\n",
       "      <th>index</th>\n",
       "      <th>Fulfilment</th>\n",
       "      <th>ship-service-level</th>\n",
       "      <th>Category</th>\n",
       "      <th>Size</th>\n",
       "      <th>Courier Status</th>\n",
       "      <th>Qty</th>\n",
       "      <th>currency</th>\n",
       "      <th>Amount</th>\n",
       "      <th>ship-city</th>\n",
       "      <th>ship-state</th>\n",
       "      <th>Rating</th>\n",
       "      <th>ship-country</th>\n",
       "    </tr>\n",
       "  </thead>\n",
       "  <tbody>\n",
       "    <tr>\n",
       "      <th>0</th>\n",
       "      <td>0</td>\n",
       "      <td>2</td>\n",
       "      <td>Standard</td>\n",
       "      <td>Set</td>\n",
       "      <td>S</td>\n",
       "      <td>Cancelled</td>\n",
       "      <td>0</td>\n",
       "      <td>INR</td>\n",
       "      <td>647.62</td>\n",
       "      <td>MUMBAI</td>\n",
       "      <td>MAHARASHTRA</td>\n",
       "      <td>2</td>\n",
       "      <td>IN</td>\n",
       "    </tr>\n",
       "    <tr>\n",
       "      <th>1</th>\n",
       "      <td>1</td>\n",
       "      <td>1</td>\n",
       "      <td>Standard</td>\n",
       "      <td>kurta</td>\n",
       "      <td>3XL</td>\n",
       "      <td>Shipped</td>\n",
       "      <td>1</td>\n",
       "      <td>INR</td>\n",
       "      <td>406.00</td>\n",
       "      <td>BENGALURU</td>\n",
       "      <td>KARNATAKA</td>\n",
       "      <td>5</td>\n",
       "      <td>IN</td>\n",
       "    </tr>\n",
       "    <tr>\n",
       "      <th>2</th>\n",
       "      <td>2</td>\n",
       "      <td>2</td>\n",
       "      <td>Expedited</td>\n",
       "      <td>kurta</td>\n",
       "      <td>XL</td>\n",
       "      <td>Shipped</td>\n",
       "      <td>1</td>\n",
       "      <td>INR</td>\n",
       "      <td>329.00</td>\n",
       "      <td>NAVI MUMBAI</td>\n",
       "      <td>MAHARASHTRA</td>\n",
       "      <td>2</td>\n",
       "      <td>IN</td>\n",
       "    </tr>\n",
       "    <tr>\n",
       "      <th>3</th>\n",
       "      <td>3</td>\n",
       "      <td>2</td>\n",
       "      <td>Standard</td>\n",
       "      <td>Western Dress</td>\n",
       "      <td>L</td>\n",
       "      <td>Cancelled</td>\n",
       "      <td>0</td>\n",
       "      <td>INR</td>\n",
       "      <td>753.33</td>\n",
       "      <td>PUDUCHERRY</td>\n",
       "      <td>PUDUCHERRY</td>\n",
       "      <td>5</td>\n",
       "      <td>IN</td>\n",
       "    </tr>\n",
       "    <tr>\n",
       "      <th>4</th>\n",
       "      <td>4</td>\n",
       "      <td>2</td>\n",
       "      <td>Expedited</td>\n",
       "      <td>Top</td>\n",
       "      <td>3XL</td>\n",
       "      <td>Shipped</td>\n",
       "      <td>1</td>\n",
       "      <td>INR</td>\n",
       "      <td>574.00</td>\n",
       "      <td>CHENNAI</td>\n",
       "      <td>TAMIL NADU</td>\n",
       "      <td>3</td>\n",
       "      <td>IN</td>\n",
       "    </tr>\n",
       "    <tr>\n",
       "      <th>...</th>\n",
       "      <td>...</td>\n",
       "      <td>...</td>\n",
       "      <td>...</td>\n",
       "      <td>...</td>\n",
       "      <td>...</td>\n",
       "      <td>...</td>\n",
       "      <td>...</td>\n",
       "      <td>...</td>\n",
       "      <td>...</td>\n",
       "      <td>...</td>\n",
       "      <td>...</td>\n",
       "      <td>...</td>\n",
       "      <td>...</td>\n",
       "    </tr>\n",
       "    <tr>\n",
       "      <th>295</th>\n",
       "      <td>295</td>\n",
       "      <td>1</td>\n",
       "      <td>Expedited</td>\n",
       "      <td>Top</td>\n",
       "      <td>XS</td>\n",
       "      <td>Shipped</td>\n",
       "      <td>1</td>\n",
       "      <td>INR</td>\n",
       "      <td>563.00</td>\n",
       "      <td>GURUGRAM</td>\n",
       "      <td>HARYANA</td>\n",
       "      <td>3</td>\n",
       "      <td>IN</td>\n",
       "    </tr>\n",
       "    <tr>\n",
       "      <th>296</th>\n",
       "      <td>296</td>\n",
       "      <td>2</td>\n",
       "      <td>Expedited</td>\n",
       "      <td>Western Dress</td>\n",
       "      <td>S</td>\n",
       "      <td>Shipped</td>\n",
       "      <td>1</td>\n",
       "      <td>INR</td>\n",
       "      <td>859.00</td>\n",
       "      <td>VIJAYAWADA</td>\n",
       "      <td>ANDHRA PRADESH</td>\n",
       "      <td>3</td>\n",
       "      <td>IN</td>\n",
       "    </tr>\n",
       "    <tr>\n",
       "      <th>297</th>\n",
       "      <td>297</td>\n",
       "      <td>2</td>\n",
       "      <td>Expedited</td>\n",
       "      <td>Set</td>\n",
       "      <td>L</td>\n",
       "      <td>Shipped</td>\n",
       "      <td>1</td>\n",
       "      <td>INR</td>\n",
       "      <td>1133.00</td>\n",
       "      <td>MUMBAI</td>\n",
       "      <td>MAHARASHTRA</td>\n",
       "      <td>3</td>\n",
       "      <td>IN</td>\n",
       "    </tr>\n",
       "    <tr>\n",
       "      <th>298</th>\n",
       "      <td>298</td>\n",
       "      <td>2</td>\n",
       "      <td>Expedited</td>\n",
       "      <td>Set</td>\n",
       "      <td>XS</td>\n",
       "      <td>Shipped</td>\n",
       "      <td>1</td>\n",
       "      <td>INR</td>\n",
       "      <td>788.00</td>\n",
       "      <td>NASHIK</td>\n",
       "      <td>MAHARASHTRA</td>\n",
       "      <td>5</td>\n",
       "      <td>IN</td>\n",
       "    </tr>\n",
       "    <tr>\n",
       "      <th>299</th>\n",
       "      <td>299</td>\n",
       "      <td>1</td>\n",
       "      <td>Expedited</td>\n",
       "      <td>Set</td>\n",
       "      <td>S</td>\n",
       "      <td>Shipped</td>\n",
       "      <td>1</td>\n",
       "      <td>INR</td>\n",
       "      <td>1463.00</td>\n",
       "      <td>THANE</td>\n",
       "      <td>MAHARASHTRA</td>\n",
       "      <td>2</td>\n",
       "      <td>IN</td>\n",
       "    </tr>\n",
       "  </tbody>\n",
       "</table>\n",
       "<p>300 rows × 13 columns</p>\n",
       "</div>"
      ],
      "text/plain": [
       "     index  Fulfilment ship-service-level       Category Size Courier Status  \\\n",
       "0        0           2           Standard            Set    S      Cancelled   \n",
       "1        1           1           Standard          kurta  3XL        Shipped   \n",
       "2        2           2          Expedited          kurta   XL        Shipped   \n",
       "3        3           2           Standard  Western Dress    L      Cancelled   \n",
       "4        4           2          Expedited            Top  3XL        Shipped   \n",
       "..     ...         ...                ...            ...  ...            ...   \n",
       "295    295           1          Expedited            Top   XS        Shipped   \n",
       "296    296           2          Expedited  Western Dress    S        Shipped   \n",
       "297    297           2          Expedited            Set    L        Shipped   \n",
       "298    298           2          Expedited            Set   XS        Shipped   \n",
       "299    299           1          Expedited            Set    S        Shipped   \n",
       "\n",
       "     Qty currency   Amount    ship-city      ship-state  Rating ship-country  \n",
       "0      0      INR   647.62       MUMBAI     MAHARASHTRA       2           IN  \n",
       "1      1      INR   406.00    BENGALURU       KARNATAKA       5           IN  \n",
       "2      1      INR   329.00  NAVI MUMBAI     MAHARASHTRA       2           IN  \n",
       "3      0      INR   753.33   PUDUCHERRY      PUDUCHERRY       5           IN  \n",
       "4      1      INR   574.00      CHENNAI      TAMIL NADU       3           IN  \n",
       "..   ...      ...      ...          ...             ...     ...          ...  \n",
       "295    1      INR   563.00     GURUGRAM         HARYANA       3           IN  \n",
       "296    1      INR   859.00   VIJAYAWADA  ANDHRA PRADESH       3           IN  \n",
       "297    1      INR  1133.00       MUMBAI     MAHARASHTRA       3           IN  \n",
       "298    1      INR   788.00       NASHIK     MAHARASHTRA       5           IN  \n",
       "299    1      INR  1463.00        THANE     MAHARASHTRA       2           IN  \n",
       "\n",
       "[300 rows x 13 columns]"
      ]
     },
     "execution_count": 57,
     "metadata": {},
     "output_type": "execute_result"
    }
   ],
   "source": [
    "df = load_dataset(\"D:\\\\Ml project\\\\Df.csv\")\n",
    "df"
   ]
  },
  {
   "cell_type": "code",
   "execution_count": 58,
   "id": "1dcffce4-081a-4b36-a01b-40cfa34abd5d",
   "metadata": {},
   "outputs": [
    {
     "data": {
      "text/plain": [
       "<bound method NDFrame.describe of      index  Fulfilment ship-service-level       Category Size Courier Status  \\\n",
       "0        0           2           Standard            Set    S      Cancelled   \n",
       "1        1           1           Standard          kurta  3XL        Shipped   \n",
       "2        2           2          Expedited          kurta   XL        Shipped   \n",
       "3        3           2           Standard  Western Dress    L      Cancelled   \n",
       "4        4           2          Expedited            Top  3XL        Shipped   \n",
       "..     ...         ...                ...            ...  ...            ...   \n",
       "295    295           1          Expedited            Top   XS        Shipped   \n",
       "296    296           2          Expedited  Western Dress    S        Shipped   \n",
       "297    297           2          Expedited            Set    L        Shipped   \n",
       "298    298           2          Expedited            Set   XS        Shipped   \n",
       "299    299           1          Expedited            Set    S        Shipped   \n",
       "\n",
       "     Qty currency   Amount    ship-city      ship-state  Rating ship-country  \n",
       "0      0      INR   647.62       MUMBAI     MAHARASHTRA       2           IN  \n",
       "1      1      INR   406.00    BENGALURU       KARNATAKA       5           IN  \n",
       "2      1      INR   329.00  NAVI MUMBAI     MAHARASHTRA       2           IN  \n",
       "3      0      INR   753.33   PUDUCHERRY      PUDUCHERRY       5           IN  \n",
       "4      1      INR   574.00      CHENNAI      TAMIL NADU       3           IN  \n",
       "..   ...      ...      ...          ...             ...     ...          ...  \n",
       "295    1      INR   563.00     GURUGRAM         HARYANA       3           IN  \n",
       "296    1      INR   859.00   VIJAYAWADA  ANDHRA PRADESH       3           IN  \n",
       "297    1      INR  1133.00       MUMBAI     MAHARASHTRA       3           IN  \n",
       "298    1      INR   788.00       NASHIK     MAHARASHTRA       5           IN  \n",
       "299    1      INR  1463.00        THANE     MAHARASHTRA       2           IN  \n",
       "\n",
       "[300 rows x 13 columns]>"
      ]
     },
     "execution_count": 58,
     "metadata": {},
     "output_type": "execute_result"
    }
   ],
   "source": [
    "df.describe"
   ]
  },
  {
   "cell_type": "code",
   "execution_count": 59,
   "id": "6b302158-3ba1-4c31-8add-33715bb72f43",
   "metadata": {},
   "outputs": [
    {
     "data": {
      "text/html": [
       "<div>\n",
       "<style scoped>\n",
       "    .dataframe tbody tr th:only-of-type {\n",
       "        vertical-align: middle;\n",
       "    }\n",
       "\n",
       "    .dataframe tbody tr th {\n",
       "        vertical-align: top;\n",
       "    }\n",
       "\n",
       "    .dataframe thead th {\n",
       "        text-align: right;\n",
       "    }\n",
       "</style>\n",
       "<table border=\"1\" class=\"dataframe\">\n",
       "  <thead>\n",
       "    <tr style=\"text-align: right;\">\n",
       "      <th></th>\n",
       "      <th>index</th>\n",
       "      <th>Fulfilment</th>\n",
       "      <th>ship-service-level</th>\n",
       "      <th>Category</th>\n",
       "      <th>Size</th>\n",
       "      <th>Courier Status</th>\n",
       "      <th>Qty</th>\n",
       "      <th>currency</th>\n",
       "      <th>Amount</th>\n",
       "      <th>ship-city</th>\n",
       "      <th>ship-state</th>\n",
       "      <th>Rating</th>\n",
       "      <th>ship-country</th>\n",
       "    </tr>\n",
       "  </thead>\n",
       "  <tbody>\n",
       "    <tr>\n",
       "      <th>0</th>\n",
       "      <td>0</td>\n",
       "      <td>2</td>\n",
       "      <td>Standard</td>\n",
       "      <td>Set</td>\n",
       "      <td>S</td>\n",
       "      <td>Cancelled</td>\n",
       "      <td>0</td>\n",
       "      <td>INR</td>\n",
       "      <td>647.62</td>\n",
       "      <td>MUMBAI</td>\n",
       "      <td>MAHARASHTRA</td>\n",
       "      <td>2</td>\n",
       "      <td>IN</td>\n",
       "    </tr>\n",
       "    <tr>\n",
       "      <th>1</th>\n",
       "      <td>1</td>\n",
       "      <td>1</td>\n",
       "      <td>Standard</td>\n",
       "      <td>kurta</td>\n",
       "      <td>3XL</td>\n",
       "      <td>Shipped</td>\n",
       "      <td>1</td>\n",
       "      <td>INR</td>\n",
       "      <td>406.00</td>\n",
       "      <td>BENGALURU</td>\n",
       "      <td>KARNATAKA</td>\n",
       "      <td>5</td>\n",
       "      <td>IN</td>\n",
       "    </tr>\n",
       "    <tr>\n",
       "      <th>2</th>\n",
       "      <td>2</td>\n",
       "      <td>2</td>\n",
       "      <td>Expedited</td>\n",
       "      <td>kurta</td>\n",
       "      <td>XL</td>\n",
       "      <td>Shipped</td>\n",
       "      <td>1</td>\n",
       "      <td>INR</td>\n",
       "      <td>329.00</td>\n",
       "      <td>NAVI MUMBAI</td>\n",
       "      <td>MAHARASHTRA</td>\n",
       "      <td>2</td>\n",
       "      <td>IN</td>\n",
       "    </tr>\n",
       "    <tr>\n",
       "      <th>3</th>\n",
       "      <td>3</td>\n",
       "      <td>2</td>\n",
       "      <td>Standard</td>\n",
       "      <td>Western Dress</td>\n",
       "      <td>L</td>\n",
       "      <td>Cancelled</td>\n",
       "      <td>0</td>\n",
       "      <td>INR</td>\n",
       "      <td>753.33</td>\n",
       "      <td>PUDUCHERRY</td>\n",
       "      <td>PUDUCHERRY</td>\n",
       "      <td>5</td>\n",
       "      <td>IN</td>\n",
       "    </tr>\n",
       "    <tr>\n",
       "      <th>4</th>\n",
       "      <td>4</td>\n",
       "      <td>2</td>\n",
       "      <td>Expedited</td>\n",
       "      <td>Top</td>\n",
       "      <td>3XL</td>\n",
       "      <td>Shipped</td>\n",
       "      <td>1</td>\n",
       "      <td>INR</td>\n",
       "      <td>574.00</td>\n",
       "      <td>CHENNAI</td>\n",
       "      <td>TAMIL NADU</td>\n",
       "      <td>3</td>\n",
       "      <td>IN</td>\n",
       "    </tr>\n",
       "  </tbody>\n",
       "</table>\n",
       "</div>"
      ],
      "text/plain": [
       "   index  Fulfilment ship-service-level       Category Size Courier Status  \\\n",
       "0      0           2           Standard            Set    S      Cancelled   \n",
       "1      1           1           Standard          kurta  3XL        Shipped   \n",
       "2      2           2          Expedited          kurta   XL        Shipped   \n",
       "3      3           2           Standard  Western Dress    L      Cancelled   \n",
       "4      4           2          Expedited            Top  3XL        Shipped   \n",
       "\n",
       "   Qty currency  Amount    ship-city   ship-state  Rating ship-country  \n",
       "0    0      INR  647.62       MUMBAI  MAHARASHTRA       2           IN  \n",
       "1    1      INR  406.00    BENGALURU    KARNATAKA       5           IN  \n",
       "2    1      INR  329.00  NAVI MUMBAI  MAHARASHTRA       2           IN  \n",
       "3    0      INR  753.33   PUDUCHERRY   PUDUCHERRY       5           IN  \n",
       "4    1      INR  574.00      CHENNAI   TAMIL NADU       3           IN  "
      ]
     },
     "execution_count": 59,
     "metadata": {},
     "output_type": "execute_result"
    }
   ],
   "source": [
    "df.head()"
   ]
  },
  {
   "cell_type": "code",
   "execution_count": 60,
   "id": "5905c940-a3e4-4a4b-ac6d-e8907f17036b",
   "metadata": {},
   "outputs": [
    {
     "data": {
      "text/plain": [
       "index                 0\n",
       "Fulfilment            0\n",
       "ship-service-level    0\n",
       "Category              0\n",
       "Size                  0\n",
       "Courier Status        0\n",
       "Qty                   0\n",
       "currency              0\n",
       "Amount                0\n",
       "ship-city             0\n",
       "ship-state            0\n",
       "Rating                0\n",
       "ship-country          0\n",
       "dtype: int64"
      ]
     },
     "execution_count": 60,
     "metadata": {},
     "output_type": "execute_result"
    }
   ],
   "source": [
    "df.isnull().sum()"
   ]
  },
  {
   "cell_type": "code",
   "execution_count": 61,
   "id": "36fca262-3552-44de-8ae2-5f32a965c907",
   "metadata": {},
   "outputs": [
    {
     "name": "stdout",
     "output_type": "stream",
     "text": [
      "ship-service-level : 2\n",
      "Category : 6\n",
      "Size : 10\n",
      "Courier Status : 3\n",
      "currency : 1\n",
      "ship-city : 138\n",
      "ship-state : 27\n",
      "ship-country : 1\n"
     ]
    }
   ],
   "source": [
    "for column in df.select_dtypes(include='object'):\n",
    "    print(column, ':', df[column].unique().shape[0])"
   ]
  },
  {
   "cell_type": "code",
   "execution_count": 62,
   "id": "26ce98bf-f980-45eb-9343-9fc0c0791bba",
   "metadata": {},
   "outputs": [],
   "source": [
    "df = remove_outliers(df, 'Rating')\n",
    "linear_model = train_linear_regression(df, ['Amount', 'Qty'], 'Rating')\n",
    "ann_model = train_neural_network(df, ['Amount', 'Qty'], 'Rating')\n",
    "rf_model = train_random_forest(df, ['Amount', 'Qty'], 'Rating')\n",
    "\n",
    "\n",
    "linear_predictions = linear_model.predict(df[['Amount', 'Qty']])\n",
    "ann_predictions = ann_model.predict(df[['Amount', 'Qty']])\n",
    "rf_predictions = rf_model.predict(df[['Amount', 'Qty']])"
   ]
  },
  {
   "cell_type": "code",
   "execution_count": 63,
   "id": "0c6bbecb-124a-4dc5-8310-d56b5c9592ef",
   "metadata": {},
   "outputs": [
    {
     "name": "stdout",
     "output_type": "stream",
     "text": [
      "Silhouette Score: 0.6030791420117564\n"
     ]
    }
   ],
   "source": [
    "kmeans_model, silhouette_avg = train_kmeans(df, ['Amount', 'Qty'], n_clusters=3)\n",
    "print('Silhouette Score:', silhouette_avg)"
   ]
  },
  {
   "cell_type": "code",
   "execution_count": 64,
   "id": "9e544af9-dfbc-4f12-8809-852d534dcfe4",
   "metadata": {},
   "outputs": [
    {
     "name": "stdout",
     "output_type": "stream",
     "text": [
      "Linear regression score: 0.010448536686892496\n",
      "Artificial neural network score: 0.22666666666666666\n",
      "Random Forest score: 0.44856575893143913\n"
     ]
    }
   ],
   "source": [
    "linear_score = evaluate_model(linear_model, df[['Amount', 'Qty']], df['Rating'])\n",
    "ann_score = evaluate_model(ann_model, df[['Amount', 'Qty']], df['Rating'])\n",
    "rf_score = evaluate_model(rf_model, df[['Amount', 'Qty']], df['Rating'])\n",
    "print('Linear regression score:', linear_score)\n",
    "print('Artificial neural network score:', ann_score)\n",
    "print('Random Forest score:', rf_score)"
   ]
  },
  {
   "cell_type": "code",
   "execution_count": 65,
   "id": "01e739af-9e46-4763-b67d-60b15b9dc86c",
   "metadata": {},
   "outputs": [
    {
     "data": {
      "image/png": "[encoded data removed]",
      "text/plain": [
       "<Figure size 640x480 with 2 Axes>"
      ]
     },
     "metadata": {},
     "output_type": "display_data"
    }
   ],
   "source": [
    "correlation_matrix = df[['Amount', 'Qty', 'Rating']].corr()\n",
    "sns.heatmap(correlation_matrix, annot=True, cmap='coolwarm', fmt=\".2f\", linewidths=0.5)\n",
    "plt.title('Correlation Matrix Heatmap')\n",
    "plt.show()"
   ]
  },
  {
   "cell_type": "code",
   "execution_count": 66,
   "id": "2799cb56-42bf-47b9-91b3-06afa6f5326d",
   "metadata": {},
   "outputs": [],
   "source": [
    "best_model = rf_model\n",
    "predicted_ratings = generate_recommendations(best_model, df[['Amount', 'Qty']])"
   ]
  },
  {
   "cell_type": "code",
   "execution_count": 67,
   "id": "06739932-e34d-4fbf-8a02-3a1d6ec4b823",
   "metadata": {},
   "outputs": [
    {
     "data": {
      "image/png": "[encoded data removed]",
      "text/plain": [
       "<Figure size 640x480 with 1 Axes>"
      ]
     },
     "metadata": {},
     "output_type": "display_data"
    }
   ],
   "source": [
    "df['predicted_rating'] = predicted_ratings\n",
    "sorted_df = df.sort_values(by='predicted_rating', ascending=False)\n",
    "plt.hist(df['Rating'])\n",
    "plt.xlabel('Rating')\n",
    "plt.ylabel('Frequency')\n",
    "plt.title('Product Rating Distribution')\n",
    "plt.show()"
   ]
  },
  {
   "cell_type": "code",
   "execution_count": 68,
   "id": "85ff822e-59c0-4fe8-af6e-699e8ff6ac2e",
   "metadata": {},
   "outputs": [
    {
     "data": {
      "image/png": "[encoded data removed]",
      "text/plain": [
       "<Figure size 640x480 with 1 Axes>"
      ]
     },
     "metadata": {},
     "output_type": "display_data"
    }
   ],
   "source": [
    "plt.scatter(df['Amount'], df['Rating'])\n",
    "plt.xlabel('Amount')\n",
    "plt.ylabel('Rating')\n",
    "plt.title('Product Ratings vs. Amount')\n",
    "plt.show()"
   ]
  },
  {
   "cell_type": "code",
   "execution_count": 69,
   "id": "5b845330-1ad7-4354-b2c0-640269ac2f24",
   "metadata": {},
   "outputs": [
    {
     "data": {
      "image/png": "[encoded data removed]",
      "text/plain": [
       "<Figure size 640x480 with 1 Axes>"
      ]
     },
     "metadata": {},
     "output_type": "display_data"
    }
   ],
   "source": [
    "plt.scatter(df['Amount'], df['Qty'], c=df['cluster'], cmap='viridis')\n",
    "plt.xlabel('Amount')\n",
    "plt.ylabel('Qty')\n",
    "plt.title('KMeans Clustering')\n",
    "plt.show()"
   ]
  },
  {
   "cell_type": "code",
   "execution_count": 70,
   "id": "9271584e-cc04-4fd8-b5ec-144103dfbd7b",
   "metadata": {},
   "outputs": [
    {
     "name": "stdout",
     "output_type": "stream",
     "text": [
      "Sample Recommendations:\n",
      "      Amount  Qty       Category  Rating  predicted_rating\n",
      "52   1033.00    1            Set       5          4.791000\n",
      "192   368.00    1          kurta       5          4.760000\n",
      "38    368.00    1          kurta       5          4.760000\n",
      "29    725.00    0          kurta       5          4.740440\n",
      "227  1058.93    0            Set       5          4.700000\n",
      "270   995.54    0            Set       5          4.633214\n",
      "264  1065.00    1            Set       5          4.620833\n",
      "3     753.33    0  Western Dress       5          4.576667\n",
      "209   375.00    1          kurta       5          4.450500\n",
      "127   375.00    1          kurta       4          4.450500\n",
      "222   635.00    1          kurta       5          4.412250\n",
      "124   635.00    1            Set       4          4.412250\n",
      "144   690.00    1  Western Dress       5          4.310667\n",
      "150   376.00    1          kurta       5          4.277143\n",
      "34    376.00    1          kurta       2          4.277143\n",
      "22    376.00    1          kurta       5          4.277143\n",
      "182   376.00    1          kurta       5          4.277143\n",
      "15    544.00    1          kurta       5          4.262500\n",
      "255   363.00    1          kurta       5          4.228810\n",
      "9     363.00    1          kurta       5          4.228810\n"
     ]
    }
   ],
   "source": [
    "print(\"Sample Recommendations:\")\n",
    "sample_recommendations = sorted_df[['Amount', 'Qty', 'Category','Rating', 'predicted_rating']].head(20)\n",
    "print(sample_recommendations)"
   ]
  }
 ],
 "metadata": {
  "kernelspec": {
   "display_name": "Python 3 (ipykernel)",
   "language": "python",
   "name": "python3"
  },
  "language_info": {
   "codemirror_mode": {
    "name": "ipython",
    "version": 3
   },
   "file_extension": ".py",
   "mimetype": "text/x-python",
   "name": "python",
   "nbconvert_exporter": "python",
   "pygments_lexer": "ipython3",
   "version": "3.11.5"
  }
 },
 "nbformat": 4,
 "nbformat_minor": 5
}
